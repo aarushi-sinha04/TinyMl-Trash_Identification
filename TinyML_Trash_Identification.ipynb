{
  "cells": [
    {
      "cell_type": "code",
      "source": [
        "!python -m pip install tensorflow==2.12.0 edgeimpulse"
      ],
      "metadata": {
        "collapsed": true,
        "id": "RKJ-f007K4dY",
        "outputId": "7d2f5601-bcb3-4ef2-e1e1-153a3ee221f7",
        "colab": {
          "base_uri": "https://localhost:8080/"
        }
      },
      "id": "RKJ-f007K4dY",
      "execution_count": null,
      "outputs": [
        {
          "output_type": "stream",
          "name": "stdout",
          "text": [
            "\u001b[33mWARNING: Ignoring invalid distribution ~ensorflow (/usr/local/lib/python3.11/dist-packages)\u001b[0m\u001b[33m\n",
            "\u001b[0m\u001b[33mWARNING: Ignoring invalid distribution ~ensorflow (/usr/local/lib/python3.11/dist-packages)\u001b[0m\u001b[33m\n",
            "\u001b[0mCollecting tensorflow==2.12.0\n",
            "  Using cached tensorflow-2.12.0-cp311-cp311-manylinux_2_17_x86_64.manylinux2014_x86_64.whl.metadata (3.4 kB)\n",
            "Collecting edgeimpulse\n",
            "  Using cached edgeimpulse-1.0.18-py3-none-any.whl.metadata (2.6 kB)\n",
            "Requirement already satisfied: absl-py>=1.0.0 in /usr/local/lib/python3.11/dist-packages (from tensorflow==2.12.0) (1.4.0)\n",
            "Requirement already satisfied: astunparse>=1.6.0 in /usr/local/lib/python3.11/dist-packages (from tensorflow==2.12.0) (1.6.3)\n",
            "Requirement already satisfied: flatbuffers>=2.0 in /usr/local/lib/python3.11/dist-packages (from tensorflow==2.12.0) (25.2.10)\n",
            "Requirement already satisfied: gast<=0.4.0,>=0.2.1 in /usr/local/lib/python3.11/dist-packages (from tensorflow==2.12.0) (0.4.0)\n",
            "Requirement already satisfied: google-pasta>=0.1.1 in /usr/local/lib/python3.11/dist-packages (from tensorflow==2.12.0) (0.2.0)\n",
            "Requirement already satisfied: grpcio<2.0,>=1.24.3 in /usr/local/lib/python3.11/dist-packages (from tensorflow==2.12.0) (1.70.0)\n",
            "Requirement already satisfied: h5py>=2.9.0 in /usr/local/lib/python3.11/dist-packages (from tensorflow==2.12.0) (3.12.1)\n",
            "Requirement already satisfied: jax>=0.3.15 in /usr/local/lib/python3.11/dist-packages (from tensorflow==2.12.0) (0.4.30)\n",
            "Requirement already satisfied: keras<2.13,>=2.12.0 in /usr/local/lib/python3.11/dist-packages (from tensorflow==2.12.0) (2.12.0)\n",
            "Requirement already satisfied: libclang>=13.0.0 in /usr/local/lib/python3.11/dist-packages (from tensorflow==2.12.0) (18.1.1)\n",
            "Requirement already satisfied: numpy<1.24,>=1.22 in /usr/local/lib/python3.11/dist-packages (from tensorflow==2.12.0) (1.23.5)\n",
            "Requirement already satisfied: opt-einsum>=2.3.2 in /usr/local/lib/python3.11/dist-packages (from tensorflow==2.12.0) (3.4.0)\n",
            "Requirement already satisfied: packaging in /usr/local/lib/python3.11/dist-packages (from tensorflow==2.12.0) (24.2)\n",
            "Requirement already satisfied: protobuf!=4.21.0,!=4.21.1,!=4.21.2,!=4.21.3,!=4.21.4,!=4.21.5,<5.0.0dev,>=3.20.3 in /usr/local/lib/python3.11/dist-packages (from tensorflow==2.12.0) (4.25.6)\n",
            "Requirement already satisfied: setuptools in /usr/local/lib/python3.11/dist-packages (from tensorflow==2.12.0) (75.1.0)\n",
            "Requirement already satisfied: six>=1.12.0 in /usr/local/lib/python3.11/dist-packages (from tensorflow==2.12.0) (1.17.0)\n",
            "Requirement already satisfied: tensorboard<2.13,>=2.12 in /usr/local/lib/python3.11/dist-packages (from tensorflow==2.12.0) (2.12.3)\n",
            "Requirement already satisfied: tensorflow-estimator<2.13,>=2.12.0 in /usr/local/lib/python3.11/dist-packages (from tensorflow==2.12.0) (2.12.0)\n",
            "Requirement already satisfied: termcolor>=1.1.0 in /usr/local/lib/python3.11/dist-packages (from tensorflow==2.12.0) (2.5.0)\n",
            "Requirement already satisfied: typing-extensions>=3.6.6 in /usr/local/lib/python3.11/dist-packages (from tensorflow==2.12.0) (4.12.2)\n",
            "Requirement already satisfied: wrapt<1.15,>=1.11.0 in /usr/local/lib/python3.11/dist-packages (from tensorflow==2.12.0) (1.14.1)\n",
            "Requirement already satisfied: tensorflow-io-gcs-filesystem>=0.23.1 in /usr/local/lib/python3.11/dist-packages (from tensorflow==2.12.0) (0.37.1)\n",
            "Requirement already satisfied: edgeimpulse-api<2.0.0,>=1.61.23 in /usr/local/lib/python3.11/dist-packages (from edgeimpulse) (1.69.6)\n",
            "Requirement already satisfied: python-socketio<6.0.0,>=5.8.0 in /usr/local/lib/python3.11/dist-packages (from python-socketio[client]<6.0.0,>=5.8.0->edgeimpulse) (5.12.1)\n",
            "Requirement already satisfied: requests<3.0.0,>=2.23.0 in /usr/local/lib/python3.11/dist-packages (from edgeimpulse) (2.32.3)\n",
            "Requirement already satisfied: wheel<1.0,>=0.23.0 in /usr/local/lib/python3.11/dist-packages (from astunparse>=1.6.0->tensorflow==2.12.0) (0.45.1)\n",
            "Requirement already satisfied: aenum<4.0.0,>=3.1.11 in /usr/local/lib/python3.11/dist-packages (from edgeimpulse-api<2.0.0,>=1.61.23->edgeimpulse) (3.1.15)\n",
            "Requirement already satisfied: pydantic<2.0.0,>=1.10.2 in /usr/local/lib/python3.11/dist-packages (from edgeimpulse-api<2.0.0,>=1.61.23->edgeimpulse) (1.10.21)\n",
            "Requirement already satisfied: python_dateutil<3.0.0,>=2.5.3 in /usr/local/lib/python3.11/dist-packages (from edgeimpulse-api<2.0.0,>=1.61.23->edgeimpulse) (2.8.2)\n",
            "Requirement already satisfied: urllib3<2.0.0,>=1.25.3 in /usr/local/lib/python3.11/dist-packages (from edgeimpulse-api<2.0.0,>=1.61.23->edgeimpulse) (1.26.20)\n",
            "Requirement already satisfied: jaxlib<=0.4.30,>=0.4.27 in /usr/local/lib/python3.11/dist-packages (from jax>=0.3.15->tensorflow==2.12.0) (0.4.30)\n",
            "Requirement already satisfied: ml-dtypes>=0.2.0 in /usr/local/lib/python3.11/dist-packages (from jax>=0.3.15->tensorflow==2.12.0) (0.4.1)\n",
            "Requirement already satisfied: scipy>=1.9 in /usr/local/lib/python3.11/dist-packages (from jax>=0.3.15->tensorflow==2.12.0) (1.13.1)\n",
            "Requirement already satisfied: bidict>=0.21.0 in /usr/local/lib/python3.11/dist-packages (from python-socketio<6.0.0,>=5.8.0->python-socketio[client]<6.0.0,>=5.8.0->edgeimpulse) (0.23.1)\n",
            "Requirement already satisfied: python-engineio>=4.11.0 in /usr/local/lib/python3.11/dist-packages (from python-socketio<6.0.0,>=5.8.0->python-socketio[client]<6.0.0,>=5.8.0->edgeimpulse) (4.11.2)\n",
            "Requirement already satisfied: websocket-client>=0.54.0 in /usr/local/lib/python3.11/dist-packages (from python-socketio[client]<6.0.0,>=5.8.0->edgeimpulse) (1.8.0)\n",
            "Requirement already satisfied: charset-normalizer<4,>=2 in /usr/local/lib/python3.11/dist-packages (from requests<3.0.0,>=2.23.0->edgeimpulse) (3.4.1)\n",
            "Requirement already satisfied: idna<4,>=2.5 in /usr/local/lib/python3.11/dist-packages (from requests<3.0.0,>=2.23.0->edgeimpulse) (3.10)\n",
            "Requirement already satisfied: certifi>=2017.4.17 in /usr/local/lib/python3.11/dist-packages (from requests<3.0.0,>=2.23.0->edgeimpulse) (2025.1.31)\n",
            "Requirement already satisfied: google-auth<3,>=1.6.3 in /usr/local/lib/python3.11/dist-packages (from tensorboard<2.13,>=2.12->tensorflow==2.12.0) (2.27.0)\n",
            "Requirement already satisfied: google-auth-oauthlib<1.1,>=0.5 in /usr/local/lib/python3.11/dist-packages (from tensorboard<2.13,>=2.12->tensorflow==2.12.0) (1.0.0)\n",
            "Requirement already satisfied: markdown>=2.6.8 in /usr/local/lib/python3.11/dist-packages (from tensorboard<2.13,>=2.12->tensorflow==2.12.0) (3.7)\n",
            "Requirement already satisfied: tensorboard-data-server<0.8.0,>=0.7.0 in /usr/local/lib/python3.11/dist-packages (from tensorboard<2.13,>=2.12->tensorflow==2.12.0) (0.7.2)\n",
            "Requirement already satisfied: werkzeug>=1.0.1 in /usr/local/lib/python3.11/dist-packages (from tensorboard<2.13,>=2.12->tensorflow==2.12.0) (3.1.3)\n",
            "Requirement already satisfied: cachetools<6.0,>=2.0.0 in /usr/local/lib/python3.11/dist-packages (from google-auth<3,>=1.6.3->tensorboard<2.13,>=2.12->tensorflow==2.12.0) (5.5.1)\n",
            "Requirement already satisfied: pyasn1-modules>=0.2.1 in /usr/local/lib/python3.11/dist-packages (from google-auth<3,>=1.6.3->tensorboard<2.13,>=2.12->tensorflow==2.12.0) (0.4.1)\n",
            "Requirement already satisfied: rsa<5,>=3.1.4 in /usr/local/lib/python3.11/dist-packages (from google-auth<3,>=1.6.3->tensorboard<2.13,>=2.12->tensorflow==2.12.0) (4.9)\n",
            "Requirement already satisfied: requests-oauthlib>=0.7.0 in /usr/local/lib/python3.11/dist-packages (from google-auth-oauthlib<1.1,>=0.5->tensorboard<2.13,>=2.12->tensorflow==2.12.0) (2.0.0)\n",
            "Requirement already satisfied: simple-websocket>=0.10.0 in /usr/local/lib/python3.11/dist-packages (from python-engineio>=4.11.0->python-socketio<6.0.0,>=5.8.0->python-socketio[client]<6.0.0,>=5.8.0->edgeimpulse) (1.1.0)\n",
            "Requirement already satisfied: MarkupSafe>=2.1.1 in /usr/local/lib/python3.11/dist-packages (from werkzeug>=1.0.1->tensorboard<2.13,>=2.12->tensorflow==2.12.0) (3.0.2)\n",
            "Requirement already satisfied: pyasn1<0.7.0,>=0.4.6 in /usr/local/lib/python3.11/dist-packages (from pyasn1-modules>=0.2.1->google-auth<3,>=1.6.3->tensorboard<2.13,>=2.12->tensorflow==2.12.0) (0.6.1)\n",
            "Requirement already satisfied: oauthlib>=3.0.0 in /usr/local/lib/python3.11/dist-packages (from requests-oauthlib>=0.7.0->google-auth-oauthlib<1.1,>=0.5->tensorboard<2.13,>=2.12->tensorflow==2.12.0) (3.2.2)\n",
            "Requirement already satisfied: wsproto in /usr/local/lib/python3.11/dist-packages (from simple-websocket>=0.10.0->python-engineio>=4.11.0->python-socketio<6.0.0,>=5.8.0->python-socketio[client]<6.0.0,>=5.8.0->edgeimpulse) (1.2.0)\n",
            "Requirement already satisfied: h11<1,>=0.9.0 in /usr/local/lib/python3.11/dist-packages (from wsproto->simple-websocket>=0.10.0->python-engineio>=4.11.0->python-socketio<6.0.0,>=5.8.0->python-socketio[client]<6.0.0,>=5.8.0->edgeimpulse) (0.14.0)\n",
            "Using cached tensorflow-2.12.0-cp311-cp311-manylinux_2_17_x86_64.manylinux2014_x86_64.whl (586.0 MB)\n",
            "Using cached edgeimpulse-1.0.18-py3-none-any.whl (68 kB)\n",
            "\u001b[33mWARNING: Ignoring invalid distribution ~ensorflow (/usr/local/lib/python3.11/dist-packages)\u001b[0m\u001b[33m\n",
            "\u001b[0mInstalling collected packages: tensorflow, edgeimpulse\n",
            "\u001b[31mERROR: pip's dependency resolver does not currently take into account all the packages that are installed. This behaviour is the source of the following dependency conflicts.\n",
            "tensorflow-text 2.18.1 requires tensorflow<2.19,>=2.18.0, but you have tensorflow 2.12.0 which is incompatible.\n",
            "tf-keras 2.18.0 requires tensorflow<2.19,>=2.18, but you have tensorflow 2.12.0 which is incompatible.\u001b[0m\u001b[31m\n",
            "\u001b[0mSuccessfully installed edgeimpulse-1.0.18 tensorflow-2.12.0\n"
          ]
        }
      ]
    },
    {
      "cell_type": "code",
      "source": [
        "import zipfile\n",
        "import os\n",
        "\n",
        "zip_path = \"/content/Trash-Identification.zip\"\n",
        "extract_path = \"/content/trash-identification\"\n",
        "\n",
        "# Extract ZIP file\n",
        "if os.path.exists(zip_path):\n",
        "    with zipfile.ZipFile(zip_path, 'r') as zip_ref:\n",
        "        zip_ref.extractall(extract_path)\n",
        "    print(\"Dataset extracted successfully!\")\n",
        "else:\n",
        "    print(\"File not found! Make sure the ZIP file is uploaded to /content/\")\n"
      ],
      "metadata": {
        "id": "pCiv2qdLK_cx",
        "outputId": "04654dc6-4855-4c61-89b0-7b85d7a865d6",
        "colab": {
          "base_uri": "https://localhost:8080/"
        }
      },
      "id": "pCiv2qdLK_cx",
      "execution_count": null,
      "outputs": [
        {
          "output_type": "stream",
          "name": "stdout",
          "text": [
            "Dataset extracted successfully!\n"
          ]
        }
      ]
    },
    {
      "cell_type": "code",
      "source": [
        "train_dataset_path = \"/content/trash-identification/Trash-Identification/train_dataset\"\n",
        "test_dataset_path = \"/content/trash-identification/Trash-Identification/test_dataset\"\n"
      ],
      "metadata": {
        "id": "Hj8al4XGLDoc"
      },
      "id": "Hj8al4XGLDoc",
      "execution_count": null,
      "outputs": []
    },
    {
      "cell_type": "code",
      "source": [
        "from tensorflow import keras\n",
        "from tensorflow.keras.preprocessing.image import ImageDataGenerator\n",
        "import edgeimpulse as ei\n",
        "\n",
        "import os\n",
        "from PIL import Image"
      ],
      "metadata": {
        "id": "AnEPHRDULHh6"
      },
      "id": "AnEPHRDULHh6",
      "execution_count": null,
      "outputs": []
    },
    {
      "cell_type": "code",
      "source": [
        "\n",
        "# Function to verify images and remove corrupted files\n",
        "def verify_images(directory):\n",
        "    for root, _, files in os.walk(directory):\n",
        "        for file in files:\n",
        "            file_path = os.path.join(root, file)\n",
        "            try:\n",
        "                with Image.open(file_path) as img:\n",
        "                    img.verify()  # Verify if the image can be opened\n",
        "            except (IOError, SyntaxError) as e:\n",
        "                print(f\"Removing corrupted or unsupported file: {file_path}\")\n",
        "                os.remove(file_path)"
      ],
      "metadata": {
        "id": "de2ChbNrLHef"
      },
      "id": "de2ChbNrLHef",
      "execution_count": null,
      "outputs": []
    },
    {
      "cell_type": "code",
      "source": [
        "# Verify images in the dataset\n",
        "verify_images(train_dataset_path)\n",
        "verify_images(test_dataset_path)"
      ],
      "metadata": {
        "id": "rdIrJ5EpLHb1",
        "outputId": "d311d734-adac-4752-d74a-6c056b0e72e3",
        "colab": {
          "base_uri": "https://localhost:8080/"
        }
      },
      "id": "rdIrJ5EpLHb1",
      "execution_count": null,
      "outputs": [
        {
          "output_type": "stream",
          "name": "stdout",
          "text": [
            "Removing corrupted or unsupported file: /content/trash-identification/Trash-Identification/train_dataset/Paper/53.jpg\n",
            "Removing corrupted or unsupported file: /content/trash-identification/Trash-Identification/train_dataset/Paper/86.jpg\n"
          ]
        }
      ]
    },
    {
      "cell_type": "code",
      "source": [
        "# Set the Edge Impulse API key\n",
        "ei.API_KEY = \"ei_f3438badece0a852de243c2d50f16f745ec3a835fe520cb6b900024cd3ef9d28\"\n"
      ],
      "metadata": {
        "id": "qqKoBGydLHY8"
      },
      "id": "qqKoBGydLHY8",
      "execution_count": null,
      "outputs": []
    },
    {
      "cell_type": "code",
      "source": [
        "# Labels for the dataset\n",
        "labels = [\"Plastic\", \"Metal Can\", \"Paper\", \"Rotten Fruits\", \"E-waste\", \"Water Bottle\"]\n",
        "num_classes = len(labels)"
      ],
      "metadata": {
        "id": "f7joXUWnLHPw"
      },
      "id": "f7joXUWnLHPw",
      "execution_count": null,
      "outputs": []
    },
    {
      "cell_type": "code",
      "source": [
        "# Filename for the exported model\n",
        "deploy_filename = \"my_model_cpp.zip\""
      ],
      "metadata": {
        "id": "GBn9v8Y_LQz_"
      },
      "id": "GBn9v8Y_LQz_",
      "execution_count": null,
      "outputs": []
    },
    {
      "cell_type": "code",
      "source": [
        "# Data preprocessing with ImageDataGenerator\n",
        "datagen = ImageDataGenerator(\n",
        "    rescale=1.0 / 255.0,  # Normalize pixel values to [0, 1]\n",
        "    validation_split=0.2  # Split dataset into 80% training and 20% validation\n",
        ")"
      ],
      "metadata": {
        "id": "cFcQKCPWLU5Q"
      },
      "id": "cFcQKCPWLU5Q",
      "execution_count": null,
      "outputs": []
    },
    {
      "cell_type": "code",
      "source": [
        "# Load training and validation datasets\n",
        "image_size = (64, 64)  # Resize images to 64x64\n",
        "batch_size = 32\n",
        "\n",
        "train_generator = datagen.flow_from_directory(\n",
        "    train_dataset_path,\n",
        "    target_size=image_size,\n",
        "    batch_size=batch_size,\n",
        "    class_mode=\"categorical\",\n",
        "    subset=\"training\"\n",
        ")\n",
        "\n",
        "validation_generator = datagen.flow_from_directory(\n",
        "    train_dataset_path,\n",
        "    target_size=image_size,\n",
        "    batch_size=batch_size,\n",
        "    class_mode=\"categorical\",\n",
        "    subset=\"validation\"\n",
        ")"
      ],
      "metadata": {
        "id": "ET0-N4MuLUw-",
        "outputId": "e5c3e82e-962f-404f-f551-7773c99a0dbb",
        "colab": {
          "base_uri": "https://localhost:8080/"
        }
      },
      "id": "ET0-N4MuLUw-",
      "execution_count": null,
      "outputs": [
        {
          "output_type": "stream",
          "name": "stdout",
          "text": [
            "Found 743 images belonging to 6 classes.\n",
            "Found 184 images belonging to 6 classes.\n"
          ]
        }
      ]
    },
    {
      "cell_type": "code",
      "source": [
        "# Testing dataset (Assumes a separate test dataset directory is provided)\n",
        "test_datagen = ImageDataGenerator(rescale=1.0 / 255.0)  # Only rescaling for testing\n",
        "test_generator = test_datagen.flow_from_directory(\n",
        "    test_dataset_path,  # Path to the test dataset directory\n",
        "    target_size=image_size,\n",
        "    batch_size=batch_size,\n",
        "    class_mode=\"categorical\",\n",
        "    shuffle=False  # No shuffling to maintain consistent batch order\n",
        ")"
      ],
      "metadata": {
        "id": "QuI782MxLUnw",
        "outputId": "9250dfc2-cac6-4996-8f3f-7d3a32ce9b0d",
        "colab": {
          "base_uri": "https://localhost:8080/"
        }
      },
      "id": "QuI782MxLUnw",
      "execution_count": null,
      "outputs": [
        {
          "output_type": "stream",
          "name": "stdout",
          "text": [
            "Found 230 images belonging to 6 classes.\n"
          ]
        }
      ]
    },
    {
      "cell_type": "code",
      "source": [
        "# Define the input shape\n",
        "input_shape = (*image_size, 3)  # 3 channels for RGB"
      ],
      "metadata": {
        "id": "2qLx2rMPLc6b"
      },
      "id": "2qLx2rMPLc6b",
      "execution_count": null,
      "outputs": []
    },
    {
      "cell_type": "code",
      "source": [
        "# Build the model\n",
        "model = keras.Sequential([\n",
        "    keras.layers.Conv2D(32, (3, 3), activation=\"relu\", input_shape=input_shape),\n",
        "    keras.layers.MaxPooling2D((2, 2)),\n",
        "    keras.layers.Conv2D(64, (3, 3), activation=\"relu\"),\n",
        "    keras.layers.MaxPooling2D((2, 2)),\n",
        "    keras.layers.Flatten(),\n",
        "    keras.layers.Dense(128, activation=\"relu\"),\n",
        "    keras.layers.Dense(num_classes, activation=\"softmax\")\n",
        "])"
      ],
      "metadata": {
        "id": "_7JpSSsNLc26"
      },
      "id": "_7JpSSsNLc26",
      "execution_count": null,
      "outputs": []
    },
    {
      "cell_type": "code",
      "source": [
        "# Compile the model\n",
        "model.compile(optimizer=\"adam\",\n",
        "              loss=\"categorical_crossentropy\",\n",
        "              metrics=[\"accuracy\"])"
      ],
      "metadata": {
        "id": "u1PW2JWZLcvM"
      },
      "id": "u1PW2JWZLcvM",
      "execution_count": null,
      "outputs": []
    },
    {
      "cell_type": "code",
      "source": [
        "# Train the model\n",
        "model.fit(\n",
        "    train_generator,\n",
        "    validation_data=validation_generator,\n",
        "    epochs=10\n",
        ")"
      ],
      "metadata": {
        "id": "qdJbX0MLLh7R",
        "outputId": "64e4a229-1657-48a2-c151-89232e96ddc5",
        "colab": {
          "base_uri": "https://localhost:8080/"
        }
      },
      "id": "qdJbX0MLLh7R",
      "execution_count": null,
      "outputs": [
        {
          "output_type": "stream",
          "name": "stdout",
          "text": [
            "Epoch 1/10\n",
            "16/24 [===================>..........] - ETA: 4s - loss: 1.9815 - accuracy: 0.2441"
          ]
        },
        {
          "output_type": "stream",
          "name": "stderr",
          "text": [
            "/usr/local/lib/python3.11/dist-packages/PIL/Image.py:1045: UserWarning: Palette images with Transparency expressed in bytes should be converted to RGBA images\n",
            "  warnings.warn(\n"
          ]
        },
        {
          "output_type": "stream",
          "name": "stdout",
          "text": [
            "24/24 [==============================] - 15s 582ms/step - loss: 1.8526 - accuracy: 0.2813 - val_loss: 1.3138 - val_accuracy: 0.5543\n",
            "Epoch 2/10\n",
            "24/24 [==============================] - 19s 807ms/step - loss: 1.1297 - accuracy: 0.5868 - val_loss: 0.8965 - val_accuracy: 0.6793\n",
            "Epoch 3/10\n",
            "24/24 [==============================] - 14s 565ms/step - loss: 0.8348 - accuracy: 0.7160 - val_loss: 0.6354 - val_accuracy: 0.8098\n",
            "Epoch 4/10\n",
            "24/24 [==============================] - 14s 563ms/step - loss: 0.6209 - accuracy: 0.8048 - val_loss: 0.5973 - val_accuracy: 0.7880\n",
            "Epoch 5/10\n",
            "24/24 [==============================] - 14s 568ms/step - loss: 0.4493 - accuracy: 0.8694 - val_loss: 0.6014 - val_accuracy: 0.8098\n",
            "Epoch 6/10\n",
            "24/24 [==============================] - 14s 572ms/step - loss: 0.3486 - accuracy: 0.8977 - val_loss: 0.6187 - val_accuracy: 0.7989\n",
            "Epoch 7/10\n",
            "24/24 [==============================] - 14s 563ms/step - loss: 0.2597 - accuracy: 0.9233 - val_loss: 0.5430 - val_accuracy: 0.8641\n",
            "Epoch 8/10\n",
            "24/24 [==============================] - 14s 576ms/step - loss: 0.1838 - accuracy: 0.9515 - val_loss: 0.5388 - val_accuracy: 0.8696\n",
            "Epoch 9/10\n",
            "24/24 [==============================] - 14s 572ms/step - loss: 0.1563 - accuracy: 0.9515 - val_loss: 0.6517 - val_accuracy: 0.8533\n",
            "Epoch 10/10\n",
            "24/24 [==============================] - 13s 562ms/step - loss: 0.0997 - accuracy: 0.9798 - val_loss: 0.6537 - val_accuracy: 0.8478\n"
          ]
        },
        {
          "output_type": "execute_result",
          "data": {
            "text/plain": [
              "<keras.callbacks.History at 0x7c29303a5ed0>"
            ]
          },
          "metadata": {},
          "execution_count": 38
        }
      ]
    },
    {
      "cell_type": "code",
      "source": [
        "# Evaluate the model on the validation set\n",
        "score = model.evaluate(validation_generator, verbose=0)\n",
        "print(f\"Validation loss: {score[0]}\")\n",
        "print(f\"Validation accuracy: {score[1]}\")\n"
      ],
      "metadata": {
        "id": "bXNihTTKLh3z",
        "outputId": "97857b3f-0679-44cd-d09a-2ab3ba5db645",
        "colab": {
          "base_uri": "https://localhost:8080/"
        }
      },
      "id": "bXNihTTKLh3z",
      "execution_count": null,
      "outputs": [
        {
          "output_type": "stream",
          "name": "stdout",
          "text": [
            "Validation loss: 0.6537488698959351\n",
            "Validation accuracy: 0.8478260636329651\n"
          ]
        }
      ]
    },
    {
      "cell_type": "code",
      "source": [
        "# Evaluate model on test set\n",
        "score = model.evaluate(test_generator, verbose=0)\n",
        "print(f\"Test loss: {score[0]}\")\n",
        "print(f\"Test accuracy: {score[1]}\")"
      ],
      "metadata": {
        "id": "e4gv9fxiLlM5",
        "outputId": "0d572e3e-b8c2-45e3-8247-5e03cc56dd46",
        "colab": {
          "base_uri": "https://localhost:8080/"
        }
      },
      "id": "e4gv9fxiLlM5",
      "execution_count": null,
      "outputs": [
        {
          "output_type": "stream",
          "name": "stdout",
          "text": [
            "Test loss: 1.0061217546463013\n",
            "Test accuracy: 0.7782608866691589\n"
          ]
        }
      ]
    },
    {
      "cell_type": "code",
      "source": [
        "# List the available profile target devices\n",
        "ei.model.list_profile_devices()"
      ],
      "metadata": {
        "collapsed": true,
        "id": "HH6seyUMOg9j",
        "outputId": "0c2cbecc-92bb-4d4e-814d-ce72dff70c8a",
        "colab": {
          "base_uri": "https://localhost:8080/"
        }
      },
      "id": "HH6seyUMOg9j",
      "execution_count": null,
      "outputs": [
        {
          "output_type": "execute_result",
          "data": {
            "text/plain": [
              "['alif-he',\n",
              " 'alif-hp',\n",
              " 'ambiq-apollo4',\n",
              " 'arduino-nano-33-ble',\n",
              " 'arduino-nicla-vision',\n",
              " 'arduino-nicla-vision-m4',\n",
              " 'portenta-h7',\n",
              " 'brainchip-akd1000',\n",
              " 'brickml',\n",
              " 'cortex-m4f-80mhz',\n",
              " 'cortex-m7-216mhz',\n",
              " 'nxp-imx93-npu',\n",
              " 'espressif-esp32',\n",
              " 'himax-we-i',\n",
              " 'himax-wiseeye2',\n",
              " 'himax-wiseeye2-ethos',\n",
              " 'imdt-v2h-cpu',\n",
              " 'imdt-v2h',\n",
              " 'infineon-cy8ckit-062s2',\n",
              " 'infineon-cy8ckit-062-ble',\n",
              " 'mbp-16-2020',\n",
              " 'memryx-mx3',\n",
              " 'microchip-sama7g54',\n",
              " 'nordic-nrf52840-dk',\n",
              " 'nordic-nrf5340-dk',\n",
              " 'nordic-nrf9151-dk',\n",
              " 'nordic-nrf9160-dk',\n",
              " 'nordic-nrf9161-dk',\n",
              " 'jetson-nano',\n",
              " 'jetson-orin-nx',\n",
              " 'jetson-orin-nano',\n",
              " 'openmv-h7p',\n",
              " 'particle-boron',\n",
              " 'particle-p2',\n",
              " 'raspberry-pi-4',\n",
              " 'raspberry-pi-5',\n",
              " 'raspberry-pi-rp2040',\n",
              " 'renesas-ck-ra6m5',\n",
              " 'renesas-ek-ra8d1',\n",
              " 'renesas-rzg2l',\n",
              " 'renesas-rzv2h-cpu',\n",
              " 'renesas-rzv2h',\n",
              " 'renesas-rzv2l-cpu',\n",
              " 'renesas-rzv2l',\n",
              " 'st-iot-discovery-kit',\n",
              " 'st-stm32n6',\n",
              " 'seeed-sense-cap',\n",
              " 'wio-terminal',\n",
              " 'seeed-vision-ai',\n",
              " 'silabs-xg24',\n",
              " 'silabs-thunderboard-sense-2',\n",
              " 'sony-spresense',\n",
              " 'synaptics-ka10000',\n",
              " 'ti-am62a',\n",
              " 'ti-am68a',\n",
              " 'ti-launchxl',\n",
              " 'ti-tda4vm',\n",
              " 'neox']"
            ]
          },
          "metadata": {},
          "execution_count": 41
        }
      ]
    },
    {
      "cell_type": "code",
      "source": [
        "# Profile your model for target hardware\n",
        "try:\n",
        "    profile = ei.model.profile(model=model, device=\"arduino-nano-33-ble\")\n",
        "    print(profile.summary())\n",
        "except Exception as e:\n",
        "    print(f\"Could not profile: {e}\")"
      ],
      "metadata": {
        "id": "fp_j5B7jLxHF",
        "outputId": "666a0142-0204-443c-da34-b0e59e24823b",
        "colab": {
          "base_uri": "https://localhost:8080/"
        }
      },
      "id": "fp_j5B7jLxHF",
      "execution_count": null,
      "outputs": [
        {
          "output_type": "stream",
          "name": "stderr",
          "text": [
            "WARNING:absl:Found untraced functions such as _jit_compiled_convolution_op, _jit_compiled_convolution_op, _update_step_xla while saving (showing 3 of 3). These functions will not be directly callable after loading.\n"
          ]
        },
        {
          "output_type": "stream",
          "name": "stdout",
          "text": [
            "Target results for float32:\n",
            "===========================\n",
            "{\n",
            "    \"variant\": \"float32\",\n",
            "    \"device\": \"arduino-nano-33-ble\",\n",
            "    \"tfliteFileSizeBytes\": 6507112,\n",
            "    \"isSupportedOnMcu\": true,\n",
            "    \"memory\": {\n",
            "        \"tflite\": {\n",
            "            \"ram\": 742198,\n",
            "            \"rom\": 6554264,\n",
            "            \"arenaSize\": 741894\n",
            "        },\n",
            "        \"eon\": {\n",
            "            \"ram\": 616880,\n",
            "            \"rom\": 6526784,\n",
            "            \"arenaSize\": 615520\n",
            "        },\n",
            "        \"eonRamOptimized\": {\n",
            "            \"ram\": 259760,\n",
            "            \"rom\": 6536504,\n",
            "            \"arenaSize\": 257088\n",
            "        }\n",
            "    },\n",
            "    \"timePerInferenceMs\": 17226,\n",
            "    \"customMetrics\": [],\n",
            "    \"hasPerformance\": true\n",
            "}\n",
            "\n",
            "\n",
            "Performance on device types:\n",
            "============================\n",
            "{\n",
            "    \"variant\": \"float32\",\n",
            "    \"lowEndMcu\": {\n",
            "        \"description\": \"Estimate for a Cortex-M0+ or similar, running at 40MHz\",\n",
            "        \"timePerInferenceMs\": 43142,\n",
            "        \"memory\": {\n",
            "            \"tflite\": {\n",
            "                \"ram\": 742044,\n",
            "                \"rom\": 6542488\n",
            "            },\n",
            "            \"eon\": {\n",
            "                \"ram\": 616784,\n",
            "                \"rom\": 6523536\n",
            "            },\n",
            "            \"eonRamOptimized\": {\n",
            "                \"ram\": 259760,\n",
            "                \"rom\": 6536504\n",
            "            }\n",
            "        },\n",
            "        \"supported\": true\n",
            "    },\n",
            "    \"highEndMcu\": {\n",
            "        \"description\": \"Estimate for a Cortex-M7 or other high-end MCU/DSP, running at 240MHz\",\n",
            "        \"timePerInferenceMs\": 556,\n",
            "        \"memory\": {\n",
            "            \"tflite\": {\n",
            "                \"ram\": 742198,\n",
            "                \"rom\": 6554264\n",
            "            },\n",
            "            \"eon\": {\n",
            "                \"ram\": 616880,\n",
            "                \"rom\": 6526784\n",
            "            },\n",
            "            \"eonRamOptimized\": {\n",
            "                \"ram\": 259760,\n",
            "                \"rom\": 6536504\n",
            "            }\n",
            "        },\n",
            "        \"supported\": true\n",
            "    },\n",
            "    \"highEndMcuPlusAccelerator\": {\n",
            "        \"description\": \"Most accelerators only accelerate quantized models.\",\n",
            "        \"timePerInferenceMs\": 556,\n",
            "        \"memory\": {\n",
            "            \"tflite\": {\n",
            "                \"ram\": 742198,\n",
            "                \"rom\": 6554264\n",
            "            },\n",
            "            \"eon\": {\n",
            "                \"ram\": 616880,\n",
            "                \"rom\": 6526784\n",
            "            },\n",
            "            \"eonRamOptimized\": {\n",
            "                \"ram\": 259760,\n",
            "                \"rom\": 6536504\n",
            "            }\n",
            "        },\n",
            "        \"supported\": true\n",
            "    },\n",
            "    \"mpu\": {\n",
            "        \"description\": \"Estimate for a Cortex-A72, x86 or other mid-range microprocessor running at 1.5GHz\",\n",
            "        \"timePerInferenceMs\": 21,\n",
            "        \"rom\": 6507112.0,\n",
            "        \"supported\": true\n",
            "    },\n",
            "    \"gpuOrMpuAccelerator\": {\n",
            "        \"description\": \"Estimate for a GPU or high-end neural network accelerator\",\n",
            "        \"timePerInferenceMs\": 4,\n",
            "        \"rom\": 6507112.0,\n",
            "        \"supported\": true\n",
            "    }\n",
            "}\n",
            "None\n"
          ]
        }
      ]
    },
    {
      "cell_type": "code",
      "source": [
        "# List available deployment targets\n",
        "ei.model.list_deployment_targets()"
      ],
      "metadata": {
        "id": "Nh2DL7rYLxDk",
        "outputId": "6e74e349-6db5-4bae-c6ea-c2de2dee8183",
        "colab": {
          "base_uri": "https://localhost:8080/"
        }
      },
      "id": "Nh2DL7rYLxDk",
      "execution_count": null,
      "outputs": [
        {
          "output_type": "execute_result",
          "data": {
            "text/plain": [
              "['syntiant-ndp101-lib',\n",
              " 'syntiant-ndp120-lib',\n",
              " 'syntiant-ndp120-lib-tdk-v14',\n",
              " 'syntiant-ndp120-lib-ndp-v1-15-0',\n",
              " 'syntiant-ndp101',\n",
              " 'syntiant-nicla-ndp120',\n",
              " 'syntiant-avnet-rasyn']"
            ]
          },
          "metadata": {},
          "execution_count": 43
        }
      ]
    },
    {
      "cell_type": "code",
      "source": [
        "# Set model information, such as your list of labels\n",
        "model_output_type = ei.model.output_type.Classification(labels=labels)\n"
      ],
      "metadata": {
        "id": "f-40MbZILxAr"
      },
      "id": "f-40MbZILxAr",
      "execution_count": null,
      "outputs": []
    },
    {
      "cell_type": "code",
      "source": [
        "# Set model input type\n",
        "model_input_type = ei.model.input_type.ImageInput()\n"
      ],
      "metadata": {
        "id": "1j3jpwivLw9z"
      },
      "id": "1j3jpwivLw9z",
      "execution_count": null,
      "outputs": []
    },
    {
      "cell_type": "code",
      "source": [
        "\n",
        "# Deploy the model as a C++ library\n",
        "deploy_bytes = None\n",
        "try:\n",
        "    deploy_bytes = ei.model.deploy(\n",
        "        model=model,\n",
        "        model_output_type=model_output_type,\n",
        "        model_input_type=model_input_type,\n",
        "        deploy_target=\"zip\"\n",
        "    )\n",
        "except Exception as e:\n",
        "    print(f\"Could not deploy: {e}\")"
      ],
      "metadata": {
        "id": "-h-WpXX0L2YD",
        "outputId": "de336997-b2b8-43ed-edc7-b505349af407",
        "colab": {
          "base_uri": "https://localhost:8080/"
        }
      },
      "id": "-h-WpXX0L2YD",
      "execution_count": null,
      "outputs": [
        {
          "output_type": "stream",
          "name": "stderr",
          "text": [
            "WARNING:absl:Found untraced functions such as _jit_compiled_convolution_op, _jit_compiled_convolution_op, _update_step_xla while saving (showing 3 of 3). These functions will not be directly callable after loading.\n"
          ]
        }
      ]
    },
    {
      "cell_type": "code",
      "source": [
        "# Save the deployed model as a .zip file\n",
        "if deploy_bytes:\n",
        "    with open(deploy_filename, \"wb\") as f:\n",
        "        f.write(deploy_bytes.getvalue())\n",
        "    print(f\"Model deployed successfully! Saved as {deploy_filename}.\")"
      ],
      "metadata": {
        "id": "gd7CgO7qL2Qx",
        "outputId": "23c61adc-03c1-426f-c4da-e936485c57c9",
        "colab": {
          "base_uri": "https://localhost:8080/"
        }
      },
      "id": "gd7CgO7qL2Qx",
      "execution_count": null,
      "outputs": [
        {
          "output_type": "stream",
          "name": "stdout",
          "text": [
            "Model deployed successfully! Saved as my_model_cpp.zip.\n"
          ]
        }
      ]
    },
    {
      "cell_type": "code",
      "source": [
        "model.save(\"saved_model\")  # Save in TensorFlow's SavedModel format\n",
        "!zip -r saved_model.zip saved_model/  # Zip it for uploading\n"
      ],
      "metadata": {
        "id": "mjTytPkhGVNE",
        "outputId": "589e3349-ebf3-426c-b42b-2751e048084c",
        "colab": {
          "base_uri": "https://localhost:8080/"
        }
      },
      "id": "mjTytPkhGVNE",
      "execution_count": null,
      "outputs": [
        {
          "output_type": "stream",
          "name": "stderr",
          "text": [
            "WARNING:absl:Found untraced functions such as _jit_compiled_convolution_op, _jit_compiled_convolution_op, _update_step_xla while saving (showing 3 of 3). These functions will not be directly callable after loading.\n"
          ]
        },
        {
          "output_type": "stream",
          "name": "stdout",
          "text": [
            "  adding: saved_model/ (stored 0%)\n",
            "  adding: saved_model/assets/ (stored 0%)\n",
            "  adding: saved_model/fingerprint.pb (stored 0%)\n",
            "  adding: saved_model/variables/ (stored 0%)\n",
            "  adding: saved_model/variables/variables.index (deflated 62%)\n",
            "  adding: saved_model/variables/variables.data-00000-of-00001 (deflated 10%)\n",
            "  adding: saved_model/saved_model.pb (deflated 88%)\n",
            "  adding: saved_model/keras_metadata.pb (deflated 90%)\n"
          ]
        }
      ]
    }
  ],
  "metadata": {
    "kernelspec": {
      "display_name": "Python 3 (ipykernel)",
      "language": "python",
      "name": "python3"
    },
    "language_info": {
      "codemirror_mode": {
        "name": "ipython",
        "version": 3
      },
      "file_extension": ".py",
      "mimetype": "text/x-python",
      "name": "python",
      "nbconvert_exporter": "python",
      "pygments_lexer": "ipython3",
      "version": "3.8.16"
    },
    "colab": {
      "provenance": []
    }
  },
  "nbformat": 4,
  "nbformat_minor": 5
}